{
 "cells": [
  {
   "attachments": {},
   "cell_type": "markdown",
   "id": "df246886",
   "metadata": {},
   "source": [
    "# Chatbot reviewer with Llama3 70B and RAG\n",
    "## Intro: The main goal of this research is to create an AI reviewer of one company which accumulates all the reviews of this company in 2023 and can answer the questions like: \"what are the best parts of the service?\", \"what are the worst?\" and solve entrepreneurs' problem of their business understanding.\n",
    "#### Credits: \n",
    "#### 1) This research is inspired by DataFest 2024 Artem Sebalo's report named \"Advanced application of GigaChat in Rabota.ru. Synthetic, search\".\n",
    "#### 2) Original dataset from https://github.com/yandex/geo-reviews-dataset-2023"
   ]
  },
  {
   "attachments": {},
   "cell_type": "markdown",
   "id": "c9e5fad4",
   "metadata": {},
   "source": [
    "## Data handling"
   ]
  },
  {
   "attachments": {},
   "cell_type": "markdown",
   "id": "77993342",
   "metadata": {},
   "source": [
    "### Some EDA"
   ]
  },
  {
   "cell_type": "code",
   "execution_count": 4,
   "id": "83c90861",
   "metadata": {},
   "outputs": [],
   "source": [
    "import pandas as pd"
   ]
  },
  {
   "cell_type": "code",
   "execution_count": 5,
   "id": "1ce40d13",
   "metadata": {},
   "outputs": [
    {
     "data": {
      "text/html": [
       "<div>\n",
       "<style scoped>\n",
       "    .dataframe tbody tr th:only-of-type {\n",
       "        vertical-align: middle;\n",
       "    }\n",
       "\n",
       "    .dataframe tbody tr th {\n",
       "        vertical-align: top;\n",
       "    }\n",
       "\n",
       "    .dataframe thead th {\n",
       "        text-align: right;\n",
       "    }\n",
       "</style>\n",
       "<table border=\"1\" class=\"dataframe\">\n",
       "  <thead>\n",
       "    <tr style=\"text-align: right;\">\n",
       "      <th></th>\n",
       "      <th>address=Екатеринбург, ул. Московская / ул. Волгоградская / ул. Печатников</th>\n",
       "      <th>name_ru=Московский квартал</th>\n",
       "      <th>rating=3.</th>\n",
       "      <th>rubrics=Жилой комплекс</th>\n",
       "      <th>text=Московский квартал 2.\\nШумно : летом по ночам дикие гонки. Грязно : кругом стройки, невозможно открыть окна (16 этаж! ), вечно по району летает мусор. Детские площадки убогие, на большой площади однотипные конструкции. Очень дорогая коммуналка. Часто срабатывает пожарная сигнализация. Жильцы уже не реагируют. В это время, обычно около часа, не работают лифты. Из плюсов - отличная планировка квартир ( Московская 194 ), на мой взгляд. Ремонт от застройщика на 3-. Окна вообще жуть - вместо вентиляции. По соотношению цена/качество - 3.</th>\n",
       "    </tr>\n",
       "  </thead>\n",
       "  <tbody>\n",
       "    <tr>\n",
       "      <th>0</th>\n",
       "      <td>address=Московская область, Электросталь, прос...</td>\n",
       "      <td>name_ru=Продукты Ермолино</td>\n",
       "      <td>rating=5.</td>\n",
       "      <td>rubrics=Магазин продуктов;Продукты глубокой за...</td>\n",
       "      <td>text=Замечательная сеть магазинов в общем, хор...</td>\n",
       "    </tr>\n",
       "    <tr>\n",
       "      <th>1</th>\n",
       "      <td>address=Краснодар, Прикубанский внутригородско...</td>\n",
       "      <td>name_ru=LimeFit</td>\n",
       "      <td>rating=1.</td>\n",
       "      <td>rubrics=Фитнес-клуб</td>\n",
       "      <td>text=Не знаю смутят ли кого-то данные правила,...</td>\n",
       "    </tr>\n",
       "    <tr>\n",
       "      <th>2</th>\n",
       "      <td>address=Санкт-Петербург, проспект Энгельса, 11...</td>\n",
       "      <td>name_ru=Snow-Express</td>\n",
       "      <td>rating=4.</td>\n",
       "      <td>rubrics=Пункт проката;Прокат велосипедов;Сапсё...</td>\n",
       "      <td>text=Хорошие условия аренды. \\nДружелюбный пер...</td>\n",
       "    </tr>\n",
       "    <tr>\n",
       "      <th>3</th>\n",
       "      <td>address=Тверь, Волоколамский проспект, 39</td>\n",
       "      <td>name_ru=Студия Beauty Brow</td>\n",
       "      <td>rating=5.</td>\n",
       "      <td>rubrics=Салон красоты;Визажисты, стилисты;Сало...</td>\n",
       "      <td>text=Топ мастер Ангелина топ во всех смыслах )...</td>\n",
       "    </tr>\n",
       "    <tr>\n",
       "      <th>4</th>\n",
       "      <td>address=Иркутская область, Черемхово, Первомай...</td>\n",
       "      <td>name_ru=Tele2</td>\n",
       "      <td>rating=5.</td>\n",
       "      <td>rubrics=Оператор сотовой связи;Интернет-провайдер</td>\n",
       "      <td>text=Приятное общение, все доступно объяснили,...</td>\n",
       "    </tr>\n",
       "  </tbody>\n",
       "</table>\n",
       "</div>"
      ],
      "text/plain": [
       "  address=Екатеринбург, ул. Московская / ул. Волгоградская / ул. Печатников  \\\n",
       "0  address=Московская область, Электросталь, прос...                          \n",
       "1  address=Краснодар, Прикубанский внутригородско...                          \n",
       "2  address=Санкт-Петербург, проспект Энгельса, 11...                          \n",
       "3          address=Тверь, Волоколамский проспект, 39                          \n",
       "4  address=Иркутская область, Черемхово, Первомай...                          \n",
       "\n",
       "   name_ru=Московский квартал  rating=3.  \\\n",
       "0   name_ru=Продукты Ермолино  rating=5.   \n",
       "1             name_ru=LimeFit  rating=1.   \n",
       "2        name_ru=Snow-Express  rating=4.   \n",
       "3  name_ru=Студия Beauty Brow  rating=5.   \n",
       "4               name_ru=Tele2  rating=5.   \n",
       "\n",
       "                              rubrics=Жилой комплекс  \\\n",
       "0  rubrics=Магазин продуктов;Продукты глубокой за...   \n",
       "1                                rubrics=Фитнес-клуб   \n",
       "2  rubrics=Пункт проката;Прокат велосипедов;Сапсё...   \n",
       "3  rubrics=Салон красоты;Визажисты, стилисты;Сало...   \n",
       "4  rubrics=Оператор сотовой связи;Интернет-провайдер   \n",
       "\n",
       "  text=Московский квартал 2.\\nШумно : летом по ночам дикие гонки. Грязно : кругом стройки, невозможно открыть окна (16 этаж! ), вечно по району летает мусор. Детские площадки убогие, на большой площади однотипные конструкции. Очень дорогая коммуналка. Часто срабатывает пожарная сигнализация. Жильцы уже не реагируют. В это время, обычно около часа, не работают лифты. Из плюсов - отличная планировка квартир ( Московская 194 ), на мой взгляд. Ремонт от застройщика на 3-. Окна вообще жуть - вместо вентиляции. По соотношению цена/качество - 3.  \n",
       "0  text=Замечательная сеть магазинов в общем, хор...                                                                                                                                                                                                                                                                                                                                                                                                                                                                                                              \n",
       "1  text=Не знаю смутят ли кого-то данные правила,...                                                                                                                                                                                                                                                                                                                                                                                                                                                                                                              \n",
       "2  text=Хорошие условия аренды. \\nДружелюбный пер...                                                                                                                                                                                                                                                                                                                                                                                                                                                                                                              \n",
       "3  text=Топ мастер Ангелина топ во всех смыслах )...                                                                                                                                                                                                                                                                                                                                                                                                                                                                                                              \n",
       "4  text=Приятное общение, все доступно объяснили,...                                                                                                                                                                                                                                                                                                                                                                                                                                                                                                              "
      ]
     },
     "execution_count": 5,
     "metadata": {},
     "output_type": "execute_result"
    }
   ],
   "source": [
    "# read tskv file\n",
    "df = pd.read_csv('geo-reviews-dataset-2023.tskv', sep='\\t')\n",
    "df.head()"
   ]
  },
  {
   "cell_type": "code",
   "execution_count": 6,
   "id": "b3fabcd9",
   "metadata": {},
   "outputs": [],
   "source": [
    "# wow, not comfortable names for cols, change it right now\n",
    "df.columns = ['address', 'name_ru', 'rating', 'rubrics', 'text']"
   ]
  },
  {
   "cell_type": "code",
   "execution_count": 7,
   "id": "db6fb1be",
   "metadata": {},
   "outputs": [
    {
     "data": {
      "text/html": [
       "<div>\n",
       "<style scoped>\n",
       "    .dataframe tbody tr th:only-of-type {\n",
       "        vertical-align: middle;\n",
       "    }\n",
       "\n",
       "    .dataframe tbody tr th {\n",
       "        vertical-align: top;\n",
       "    }\n",
       "\n",
       "    .dataframe thead th {\n",
       "        text-align: right;\n",
       "    }\n",
       "</style>\n",
       "<table border=\"1\" class=\"dataframe\">\n",
       "  <thead>\n",
       "    <tr style=\"text-align: right;\">\n",
       "      <th></th>\n",
       "      <th>address</th>\n",
       "      <th>name_ru</th>\n",
       "      <th>rating</th>\n",
       "      <th>rubrics</th>\n",
       "      <th>text</th>\n",
       "    </tr>\n",
       "  </thead>\n",
       "  <tbody>\n",
       "    <tr>\n",
       "      <th>0</th>\n",
       "      <td>address=Московская область, Электросталь, прос...</td>\n",
       "      <td>name_ru=Продукты Ермолино</td>\n",
       "      <td>rating=5.</td>\n",
       "      <td>rubrics=Магазин продуктов;Продукты глубокой за...</td>\n",
       "      <td>text=Замечательная сеть магазинов в общем, хор...</td>\n",
       "    </tr>\n",
       "    <tr>\n",
       "      <th>1</th>\n",
       "      <td>address=Краснодар, Прикубанский внутригородско...</td>\n",
       "      <td>name_ru=LimeFit</td>\n",
       "      <td>rating=1.</td>\n",
       "      <td>rubrics=Фитнес-клуб</td>\n",
       "      <td>text=Не знаю смутят ли кого-то данные правила,...</td>\n",
       "    </tr>\n",
       "    <tr>\n",
       "      <th>2</th>\n",
       "      <td>address=Санкт-Петербург, проспект Энгельса, 11...</td>\n",
       "      <td>name_ru=Snow-Express</td>\n",
       "      <td>rating=4.</td>\n",
       "      <td>rubrics=Пункт проката;Прокат велосипедов;Сапсё...</td>\n",
       "      <td>text=Хорошие условия аренды. \\nДружелюбный пер...</td>\n",
       "    </tr>\n",
       "    <tr>\n",
       "      <th>3</th>\n",
       "      <td>address=Тверь, Волоколамский проспект, 39</td>\n",
       "      <td>name_ru=Студия Beauty Brow</td>\n",
       "      <td>rating=5.</td>\n",
       "      <td>rubrics=Салон красоты;Визажисты, стилисты;Сало...</td>\n",
       "      <td>text=Топ мастер Ангелина топ во всех смыслах )...</td>\n",
       "    </tr>\n",
       "    <tr>\n",
       "      <th>4</th>\n",
       "      <td>address=Иркутская область, Черемхово, Первомай...</td>\n",
       "      <td>name_ru=Tele2</td>\n",
       "      <td>rating=5.</td>\n",
       "      <td>rubrics=Оператор сотовой связи;Интернет-провайдер</td>\n",
       "      <td>text=Приятное общение, все доступно объяснили,...</td>\n",
       "    </tr>\n",
       "  </tbody>\n",
       "</table>\n",
       "</div>"
      ],
      "text/plain": [
       "                                             address  \\\n",
       "0  address=Московская область, Электросталь, прос...   \n",
       "1  address=Краснодар, Прикубанский внутригородско...   \n",
       "2  address=Санкт-Петербург, проспект Энгельса, 11...   \n",
       "3          address=Тверь, Волоколамский проспект, 39   \n",
       "4  address=Иркутская область, Черемхово, Первомай...   \n",
       "\n",
       "                      name_ru     rating  \\\n",
       "0   name_ru=Продукты Ермолино  rating=5.   \n",
       "1             name_ru=LimeFit  rating=1.   \n",
       "2        name_ru=Snow-Express  rating=4.   \n",
       "3  name_ru=Студия Beauty Brow  rating=5.   \n",
       "4               name_ru=Tele2  rating=5.   \n",
       "\n",
       "                                             rubrics  \\\n",
       "0  rubrics=Магазин продуктов;Продукты глубокой за...   \n",
       "1                                rubrics=Фитнес-клуб   \n",
       "2  rubrics=Пункт проката;Прокат велосипедов;Сапсё...   \n",
       "3  rubrics=Салон красоты;Визажисты, стилисты;Сало...   \n",
       "4  rubrics=Оператор сотовой связи;Интернет-провайдер   \n",
       "\n",
       "                                                text  \n",
       "0  text=Замечательная сеть магазинов в общем, хор...  \n",
       "1  text=Не знаю смутят ли кого-то данные правила,...  \n",
       "2  text=Хорошие условия аренды. \\nДружелюбный пер...  \n",
       "3  text=Топ мастер Ангелина топ во всех смыслах )...  \n",
       "4  text=Приятное общение, все доступно объяснили,...  "
      ]
     },
     "execution_count": 7,
     "metadata": {},
     "output_type": "execute_result"
    }
   ],
   "source": [
    "df.head()"
   ]
  },
  {
   "cell_type": "code",
   "execution_count": 8,
   "id": "b00f174d",
   "metadata": {},
   "outputs": [
    {
     "data": {
      "text/plain": [
       "name_ru\n",
       "name_ru=Пятёрочка                                                6030\n",
       "name_ru=Магнит                                                   2611\n",
       "name_ru=Красное&Белое                                            1732\n",
       "name_ru=Wildberries                                              1698\n",
       "name_ru=Ozon                                                     1494\n",
       "                                                                 ... \n",
       "name_ru=Лоза-Кизлярского Коньячного Завода                          1\n",
       "name_ru=Car-Gold                                                    1\n",
       "name_ru=Фрейми                                                      1\n",
       "name_ru=Рыбачим вместе                                              1\n",
       "name_ru=Дворец культуры авиастроителей имени 50-летия Октября       1\n",
       "Name: count, Length: 148460, dtype: int64"
      ]
     },
     "execution_count": 8,
     "metadata": {},
     "output_type": "execute_result"
    }
   ],
   "source": [
    "# we're going to choose only one company to test our model and check hypothesis of the report of creating such an\n",
    "# essence which can be a reviwer of your company\n",
    "# let us count some values\n",
    "df['name_ru'].value_counts()"
   ]
  },
  {
   "cell_type": "code",
   "execution_count": 9,
   "id": "65c2cbee",
   "metadata": {},
   "outputs": [
    {
     "data": {
      "text/plain": [
       "name_ru\n",
       "name_ru=Fitness House              153\n",
       "name_ru=Хачапури тетушки Марико    152\n",
       "name_ru=Парк Краснодар             151\n",
       "name_ru=Папа Джонс                 151\n",
       "name_ru=Чио Чио                    150\n",
       "name_ru=Апельсин                   150\n",
       "name_ru=Волна                      150\n",
       "name_ru=Мореон                     149\n",
       "name_ru=Русь                       149\n",
       "name_ru=BRITVA                     148\n",
       "Name: count, dtype: int64"
      ]
     },
     "execution_count": 9,
     "metadata": {},
     "output_type": "execute_result"
    }
   ],
   "source": [
    "# we don't have much compute so we only can choose not popular companies with not so many reviews.\n",
    "df['name_ru'].value_counts()[150:160]"
   ]
  },
  {
   "cell_type": "code",
   "execution_count": 10,
   "id": "c3acac7b",
   "metadata": {},
   "outputs": [],
   "source": [
    "# ok, let it be park Krasnodar with 151 reviews.\n",
    "df = df[df['name_ru'] == 'name_ru=Парк Краснодар']"
   ]
  },
  {
   "cell_type": "code",
   "execution_count": 11,
   "id": "b726d5fb",
   "metadata": {},
   "outputs": [
    {
     "data": {
      "text/plain": [
       "rating\n",
       "rating=5.    142\n",
       "rating=4.      8\n",
       "rating=3.      1\n",
       "Name: count, dtype: int64"
      ]
     },
     "execution_count": 11,
     "metadata": {},
     "output_type": "execute_result"
    }
   ],
   "source": [
    "df.rating.value_counts()"
   ]
  },
  {
   "cell_type": "code",
   "execution_count": 12,
   "id": "294841b9",
   "metadata": {},
   "outputs": [
    {
     "data": {
      "text/html": [
       "<div>\n",
       "<style scoped>\n",
       "    .dataframe tbody tr th:only-of-type {\n",
       "        vertical-align: middle;\n",
       "    }\n",
       "\n",
       "    .dataframe tbody tr th {\n",
       "        vertical-align: top;\n",
       "    }\n",
       "\n",
       "    .dataframe thead th {\n",
       "        text-align: right;\n",
       "    }\n",
       "</style>\n",
       "<table border=\"1\" class=\"dataframe\">\n",
       "  <thead>\n",
       "    <tr style=\"text-align: right;\">\n",
       "      <th></th>\n",
       "      <th>address</th>\n",
       "      <th>name_ru</th>\n",
       "      <th>rating</th>\n",
       "      <th>rubrics</th>\n",
       "      <th>text</th>\n",
       "    </tr>\n",
       "  </thead>\n",
       "  <tbody>\n",
       "    <tr>\n",
       "      <th>152007</th>\n",
       "      <td>address=Краснодар, Городской сад</td>\n",
       "      <td>name_ru=Парк Краснодар</td>\n",
       "      <td>rating=5.</td>\n",
       "      <td>rubrics=Парк культуры и отдыха</td>\n",
       "      <td>text=Отличный парк, для всей семьи. Гулять мож...</td>\n",
       "    </tr>\n",
       "    <tr>\n",
       "      <th>152008</th>\n",
       "      <td>address=Краснодар, Городской сад</td>\n",
       "      <td>name_ru=Парк Краснодар</td>\n",
       "      <td>rating=5.</td>\n",
       "      <td>rubrics=Парк культуры и отдыха</td>\n",
       "      <td>text=Парк Краснодара, очень красивое и уютное ...</td>\n",
       "    </tr>\n",
       "    <tr>\n",
       "      <th>152009</th>\n",
       "      <td>address=Краснодар, Городской сад</td>\n",
       "      <td>name_ru=Парк Краснодар</td>\n",
       "      <td>rating=5.</td>\n",
       "      <td>rubrics=Парк культуры и отдыха</td>\n",
       "      <td>text=Самый лучший парк, который я посещала. Ог...</td>\n",
       "    </tr>\n",
       "    <tr>\n",
       "      <th>152010</th>\n",
       "      <td>address=Краснодар, Городской сад</td>\n",
       "      <td>name_ru=Парк Краснодар</td>\n",
       "      <td>rating=5.</td>\n",
       "      <td>rubrics=Парк культуры и отдыха</td>\n",
       "      <td>text=Удивительная красота!! Мир цветов и зелен...</td>\n",
       "    </tr>\n",
       "    <tr>\n",
       "      <th>152011</th>\n",
       "      <td>address=Краснодар, Городской сад</td>\n",
       "      <td>name_ru=Парк Краснодар</td>\n",
       "      <td>rating=5.</td>\n",
       "      <td>rubrics=Парк культуры и отдыха</td>\n",
       "      <td>text=Не иначе как это чудо для нашей страны. Т...</td>\n",
       "    </tr>\n",
       "  </tbody>\n",
       "</table>\n",
       "</div>"
      ],
      "text/plain": [
       "                                 address                 name_ru     rating  \\\n",
       "152007  address=Краснодар, Городской сад  name_ru=Парк Краснодар  rating=5.   \n",
       "152008  address=Краснодар, Городской сад  name_ru=Парк Краснодар  rating=5.   \n",
       "152009  address=Краснодар, Городской сад  name_ru=Парк Краснодар  rating=5.   \n",
       "152010  address=Краснодар, Городской сад  name_ru=Парк Краснодар  rating=5.   \n",
       "152011  address=Краснодар, Городской сад  name_ru=Парк Краснодар  rating=5.   \n",
       "\n",
       "                               rubrics  \\\n",
       "152007  rubrics=Парк культуры и отдыха   \n",
       "152008  rubrics=Парк культуры и отдыха   \n",
       "152009  rubrics=Парк культуры и отдыха   \n",
       "152010  rubrics=Парк культуры и отдыха   \n",
       "152011  rubrics=Парк культуры и отдыха   \n",
       "\n",
       "                                                     text  \n",
       "152007  text=Отличный парк, для всей семьи. Гулять мож...  \n",
       "152008  text=Парк Краснодара, очень красивое и уютное ...  \n",
       "152009  text=Самый лучший парк, который я посещала. Ог...  \n",
       "152010  text=Удивительная красота!! Мир цветов и зелен...  \n",
       "152011  text=Не иначе как это чудо для нашей страны. Т...  "
      ]
     },
     "execution_count": 12,
     "metadata": {},
     "output_type": "execute_result"
    }
   ],
   "source": [
    "# wow this park has a good rating, we won't see yelling and blaming here. It's for better! We'll see many benefits and \n",
    "# good mood:)\n",
    "df.head()"
   ]
  },
  {
   "cell_type": "code",
   "execution_count": 13,
   "id": "0bda7bb3",
   "metadata": {},
   "outputs": [],
   "source": [
    "# delete each column name inside of each row\n",
    "def clean_row(df, col):\n",
    "    df[col] = df[col].apply(lambda x: x.split('=')[1])\n",
    "    return df"
   ]
  },
  {
   "cell_type": "code",
   "execution_count": 14,
   "id": "4b4c5ac8",
   "metadata": {},
   "outputs": [],
   "source": [
    "for col in df.columns:\n",
    "    clean_row(df, col)"
   ]
  },
  {
   "cell_type": "code",
   "execution_count": 15,
   "id": "2d65a8af",
   "metadata": {},
   "outputs": [
    {
     "data": {
      "text/html": [
       "<div>\n",
       "<style scoped>\n",
       "    .dataframe tbody tr th:only-of-type {\n",
       "        vertical-align: middle;\n",
       "    }\n",
       "\n",
       "    .dataframe tbody tr th {\n",
       "        vertical-align: top;\n",
       "    }\n",
       "\n",
       "    .dataframe thead th {\n",
       "        text-align: right;\n",
       "    }\n",
       "</style>\n",
       "<table border=\"1\" class=\"dataframe\">\n",
       "  <thead>\n",
       "    <tr style=\"text-align: right;\">\n",
       "      <th></th>\n",
       "      <th>address</th>\n",
       "      <th>name_ru</th>\n",
       "      <th>rating</th>\n",
       "      <th>rubrics</th>\n",
       "      <th>text</th>\n",
       "    </tr>\n",
       "  </thead>\n",
       "  <tbody>\n",
       "    <tr>\n",
       "      <th>152007</th>\n",
       "      <td>Краснодар, Городской сад</td>\n",
       "      <td>Парк Краснодар</td>\n",
       "      <td>5.</td>\n",
       "      <td>Парк культуры и отдыха</td>\n",
       "      <td>Отличный парк, для всей семьи. Гулять можно це...</td>\n",
       "    </tr>\n",
       "    <tr>\n",
       "      <th>152008</th>\n",
       "      <td>Краснодар, Городской сад</td>\n",
       "      <td>Парк Краснодар</td>\n",
       "      <td>5.</td>\n",
       "      <td>Парк культуры и отдыха</td>\n",
       "      <td>Парк Краснодара, очень красивое и уютное место...</td>\n",
       "    </tr>\n",
       "    <tr>\n",
       "      <th>152009</th>\n",
       "      <td>Краснодар, Городской сад</td>\n",
       "      <td>Парк Краснодар</td>\n",
       "      <td>5.</td>\n",
       "      <td>Парк культуры и отдыха</td>\n",
       "      <td>Самый лучший парк, который я посещала. Огромна...</td>\n",
       "    </tr>\n",
       "    <tr>\n",
       "      <th>152010</th>\n",
       "      <td>Краснодар, Городской сад</td>\n",
       "      <td>Парк Краснодар</td>\n",
       "      <td>5.</td>\n",
       "      <td>Парк культуры и отдыха</td>\n",
       "      <td>Удивительная красота!! Мир цветов и зелени! По...</td>\n",
       "    </tr>\n",
       "    <tr>\n",
       "      <th>152011</th>\n",
       "      <td>Краснодар, Городской сад</td>\n",
       "      <td>Парк Краснодар</td>\n",
       "      <td>5.</td>\n",
       "      <td>Парк культуры и отдыха</td>\n",
       "      <td>Не иначе как это чудо для нашей страны. Такого...</td>\n",
       "    </tr>\n",
       "    <tr>\n",
       "      <th>...</th>\n",
       "      <td>...</td>\n",
       "      <td>...</td>\n",
       "      <td>...</td>\n",
       "      <td>...</td>\n",
       "      <td>...</td>\n",
       "    </tr>\n",
       "    <tr>\n",
       "      <th>152153</th>\n",
       "      <td>Краснодар, Городской сад</td>\n",
       "      <td>Парк Краснодар</td>\n",
       "      <td>5.</td>\n",
       "      <td>Парк культуры и отдыха</td>\n",
       "      <td>Вкусное мороженое возле японского сада)</td>\n",
       "    </tr>\n",
       "    <tr>\n",
       "      <th>152154</th>\n",
       "      <td>Краснодар, Городской сад</td>\n",
       "      <td>Парк Краснодар</td>\n",
       "      <td>5.</td>\n",
       "      <td>Парк культуры и отдыха</td>\n",
       "      <td>Самый блестящий, ухоженный, просто замечательн...</td>\n",
       "    </tr>\n",
       "    <tr>\n",
       "      <th>152155</th>\n",
       "      <td>Краснодар, Городской сад</td>\n",
       "      <td>Парк Краснодар</td>\n",
       "      <td>5.</td>\n",
       "      <td>Парк культуры и отдыха</td>\n",
       "      <td>Потрясающий парк. Гуляли весь день. Сына с тру...</td>\n",
       "    </tr>\n",
       "    <tr>\n",
       "      <th>152156</th>\n",
       "      <td>Краснодар, Городской сад</td>\n",
       "      <td>Парк Краснодар</td>\n",
       "      <td>5.</td>\n",
       "      <td>Парк культуры и отдыха</td>\n",
       "      <td>Шикарное место для прогулок на свежем воздухе....</td>\n",
       "    </tr>\n",
       "    <tr>\n",
       "      <th>152157</th>\n",
       "      <td>Краснодар, Городской сад</td>\n",
       "      <td>Парк Краснодар</td>\n",
       "      <td>5.</td>\n",
       "      <td>Парк культуры и отдыха</td>\n",
       "      <td>Эмоции зашкаливают. Место, где останавливается...</td>\n",
       "    </tr>\n",
       "  </tbody>\n",
       "</table>\n",
       "<p>151 rows × 5 columns</p>\n",
       "</div>"
      ],
      "text/plain": [
       "                         address         name_ru rating  \\\n",
       "152007  Краснодар, Городской сад  Парк Краснодар     5.   \n",
       "152008  Краснодар, Городской сад  Парк Краснодар     5.   \n",
       "152009  Краснодар, Городской сад  Парк Краснодар     5.   \n",
       "152010  Краснодар, Городской сад  Парк Краснодар     5.   \n",
       "152011  Краснодар, Городской сад  Парк Краснодар     5.   \n",
       "...                          ...             ...    ...   \n",
       "152153  Краснодар, Городской сад  Парк Краснодар     5.   \n",
       "152154  Краснодар, Городской сад  Парк Краснодар     5.   \n",
       "152155  Краснодар, Городской сад  Парк Краснодар     5.   \n",
       "152156  Краснодар, Городской сад  Парк Краснодар     5.   \n",
       "152157  Краснодар, Городской сад  Парк Краснодар     5.   \n",
       "\n",
       "                       rubrics  \\\n",
       "152007  Парк культуры и отдыха   \n",
       "152008  Парк культуры и отдыха   \n",
       "152009  Парк культуры и отдыха   \n",
       "152010  Парк культуры и отдыха   \n",
       "152011  Парк культуры и отдыха   \n",
       "...                        ...   \n",
       "152153  Парк культуры и отдыха   \n",
       "152154  Парк культуры и отдыха   \n",
       "152155  Парк культуры и отдыха   \n",
       "152156  Парк культуры и отдыха   \n",
       "152157  Парк культуры и отдыха   \n",
       "\n",
       "                                                     text  \n",
       "152007  Отличный парк, для всей семьи. Гулять можно це...  \n",
       "152008  Парк Краснодара, очень красивое и уютное место...  \n",
       "152009  Самый лучший парк, который я посещала. Огромна...  \n",
       "152010  Удивительная красота!! Мир цветов и зелени! По...  \n",
       "152011  Не иначе как это чудо для нашей страны. Такого...  \n",
       "...                                                   ...  \n",
       "152153            Вкусное мороженое возле японского сада)  \n",
       "152154  Самый блестящий, ухоженный, просто замечательн...  \n",
       "152155  Потрясающий парк. Гуляли весь день. Сына с тру...  \n",
       "152156  Шикарное место для прогулок на свежем воздухе....  \n",
       "152157  Эмоции зашкаливают. Место, где останавливается...  \n",
       "\n",
       "[151 rows x 5 columns]"
      ]
     },
     "execution_count": 15,
     "metadata": {},
     "output_type": "execute_result"
    }
   ],
   "source": [
    "df"
   ]
  },
  {
   "cell_type": "code",
   "execution_count": 16,
   "id": "77dcc454",
   "metadata": {},
   "outputs": [
    {
     "data": {
      "text/html": [
       "<div>\n",
       "<style scoped>\n",
       "    .dataframe tbody tr th:only-of-type {\n",
       "        vertical-align: middle;\n",
       "    }\n",
       "\n",
       "    .dataframe tbody tr th {\n",
       "        vertical-align: top;\n",
       "    }\n",
       "\n",
       "    .dataframe thead th {\n",
       "        text-align: right;\n",
       "    }\n",
       "</style>\n",
       "<table border=\"1\" class=\"dataframe\">\n",
       "  <thead>\n",
       "    <tr style=\"text-align: right;\">\n",
       "      <th></th>\n",
       "      <th>address</th>\n",
       "      <th>name_ru</th>\n",
       "      <th>rating</th>\n",
       "      <th>rubrics</th>\n",
       "      <th>text</th>\n",
       "    </tr>\n",
       "  </thead>\n",
       "  <tbody>\n",
       "    <tr>\n",
       "      <th>count</th>\n",
       "      <td>151</td>\n",
       "      <td>151</td>\n",
       "      <td>151</td>\n",
       "      <td>151</td>\n",
       "      <td>151</td>\n",
       "    </tr>\n",
       "    <tr>\n",
       "      <th>unique</th>\n",
       "      <td>1</td>\n",
       "      <td>1</td>\n",
       "      <td>3</td>\n",
       "      <td>1</td>\n",
       "      <td>151</td>\n",
       "    </tr>\n",
       "    <tr>\n",
       "      <th>top</th>\n",
       "      <td>Краснодар, Городской сад</td>\n",
       "      <td>Парк Краснодар</td>\n",
       "      <td>5.</td>\n",
       "      <td>Парк культуры и отдыха</td>\n",
       "      <td>Отличный парк, для всей семьи. Гулять можно це...</td>\n",
       "    </tr>\n",
       "    <tr>\n",
       "      <th>freq</th>\n",
       "      <td>151</td>\n",
       "      <td>151</td>\n",
       "      <td>142</td>\n",
       "      <td>151</td>\n",
       "      <td>1</td>\n",
       "    </tr>\n",
       "  </tbody>\n",
       "</table>\n",
       "</div>"
      ],
      "text/plain": [
       "                         address         name_ru rating  \\\n",
       "count                        151             151    151   \n",
       "unique                         1               1      3   \n",
       "top     Краснодар, Городской сад  Парк Краснодар     5.   \n",
       "freq                         151             151    142   \n",
       "\n",
       "                       rubrics  \\\n",
       "count                      151   \n",
       "unique                       1   \n",
       "top     Парк культуры и отдыха   \n",
       "freq                       151   \n",
       "\n",
       "                                                     text  \n",
       "count                                                 151  \n",
       "unique                                                151  \n",
       "top     Отличный парк, для всей семьи. Гулять можно це...  \n",
       "freq                                                    1  "
      ]
     },
     "execution_count": 16,
     "metadata": {},
     "output_type": "execute_result"
    }
   ],
   "source": [
    "# great, we've cleaned our df a bit. Describe df\n",
    "df.describe(include='all')"
   ]
  },
  {
   "cell_type": "code",
   "execution_count": 17,
   "id": "6899d27b",
   "metadata": {},
   "outputs": [],
   "source": [
    "# we can delete unnecessary columns since we have unique values in them\n",
    "df_clean = df.drop(columns=['address', 'name_ru', 'rubrics'])"
   ]
  },
  {
   "cell_type": "code",
   "execution_count": 18,
   "id": "7830c7be",
   "metadata": {},
   "outputs": [
    {
     "data": {
      "text/html": [
       "<div>\n",
       "<style scoped>\n",
       "    .dataframe tbody tr th:only-of-type {\n",
       "        vertical-align: middle;\n",
       "    }\n",
       "\n",
       "    .dataframe tbody tr th {\n",
       "        vertical-align: top;\n",
       "    }\n",
       "\n",
       "    .dataframe thead th {\n",
       "        text-align: right;\n",
       "    }\n",
       "</style>\n",
       "<table border=\"1\" class=\"dataframe\">\n",
       "  <thead>\n",
       "    <tr style=\"text-align: right;\">\n",
       "      <th></th>\n",
       "      <th>rating</th>\n",
       "      <th>text</th>\n",
       "    </tr>\n",
       "  </thead>\n",
       "  <tbody>\n",
       "    <tr>\n",
       "      <th>152007</th>\n",
       "      <td>5.</td>\n",
       "      <td>Отличный парк, для всей семьи. Гулять можно це...</td>\n",
       "    </tr>\n",
       "    <tr>\n",
       "      <th>152008</th>\n",
       "      <td>5.</td>\n",
       "      <td>Парк Краснодара, очень красивое и уютное место...</td>\n",
       "    </tr>\n",
       "    <tr>\n",
       "      <th>152009</th>\n",
       "      <td>5.</td>\n",
       "      <td>Самый лучший парк, который я посещала. Огромна...</td>\n",
       "    </tr>\n",
       "    <tr>\n",
       "      <th>152010</th>\n",
       "      <td>5.</td>\n",
       "      <td>Удивительная красота!! Мир цветов и зелени! По...</td>\n",
       "    </tr>\n",
       "    <tr>\n",
       "      <th>152011</th>\n",
       "      <td>5.</td>\n",
       "      <td>Не иначе как это чудо для нашей страны. Такого...</td>\n",
       "    </tr>\n",
       "    <tr>\n",
       "      <th>...</th>\n",
       "      <td>...</td>\n",
       "      <td>...</td>\n",
       "    </tr>\n",
       "    <tr>\n",
       "      <th>152153</th>\n",
       "      <td>5.</td>\n",
       "      <td>Вкусное мороженое возле японского сада)</td>\n",
       "    </tr>\n",
       "    <tr>\n",
       "      <th>152154</th>\n",
       "      <td>5.</td>\n",
       "      <td>Самый блестящий, ухоженный, просто замечательн...</td>\n",
       "    </tr>\n",
       "    <tr>\n",
       "      <th>152155</th>\n",
       "      <td>5.</td>\n",
       "      <td>Потрясающий парк. Гуляли весь день. Сына с тру...</td>\n",
       "    </tr>\n",
       "    <tr>\n",
       "      <th>152156</th>\n",
       "      <td>5.</td>\n",
       "      <td>Шикарное место для прогулок на свежем воздухе....</td>\n",
       "    </tr>\n",
       "    <tr>\n",
       "      <th>152157</th>\n",
       "      <td>5.</td>\n",
       "      <td>Эмоции зашкаливают. Место, где останавливается...</td>\n",
       "    </tr>\n",
       "  </tbody>\n",
       "</table>\n",
       "<p>151 rows × 2 columns</p>\n",
       "</div>"
      ],
      "text/plain": [
       "       rating                                               text\n",
       "152007     5.  Отличный парк, для всей семьи. Гулять можно це...\n",
       "152008     5.  Парк Краснодара, очень красивое и уютное место...\n",
       "152009     5.  Самый лучший парк, который я посещала. Огромна...\n",
       "152010     5.  Удивительная красота!! Мир цветов и зелени! По...\n",
       "152011     5.  Не иначе как это чудо для нашей страны. Такого...\n",
       "...       ...                                                ...\n",
       "152153     5.            Вкусное мороженое возле японского сада)\n",
       "152154     5.  Самый блестящий, ухоженный, просто замечательн...\n",
       "152155     5.  Потрясающий парк. Гуляли весь день. Сына с тру...\n",
       "152156     5.  Шикарное место для прогулок на свежем воздухе....\n",
       "152157     5.  Эмоции зашкаливают. Место, где останавливается...\n",
       "\n",
       "[151 rows x 2 columns]"
      ]
     },
     "execution_count": 18,
     "metadata": {},
     "output_type": "execute_result"
    }
   ],
   "source": [
    "df_clean"
   ]
  },
  {
   "cell_type": "code",
   "execution_count": 19,
   "id": "5828eae5",
   "metadata": {},
   "outputs": [],
   "source": [
    "# what if we combine two remaining columns so our each review would have its rating and a review itself?\n",
    "# i think it's a great idea!\n",
    "df_clean['review'] = df_clean.apply(lambda x: 'Оценка: ' + x['rating'] + ' ' + x['text'], axis=1)"
   ]
  },
  {
   "cell_type": "code",
   "execution_count": 20,
   "id": "27649a46",
   "metadata": {},
   "outputs": [
    {
     "data": {
      "text/html": [
       "<div>\n",
       "<style scoped>\n",
       "    .dataframe tbody tr th:only-of-type {\n",
       "        vertical-align: middle;\n",
       "    }\n",
       "\n",
       "    .dataframe tbody tr th {\n",
       "        vertical-align: top;\n",
       "    }\n",
       "\n",
       "    .dataframe thead th {\n",
       "        text-align: right;\n",
       "    }\n",
       "</style>\n",
       "<table border=\"1\" class=\"dataframe\">\n",
       "  <thead>\n",
       "    <tr style=\"text-align: right;\">\n",
       "      <th></th>\n",
       "      <th>rating</th>\n",
       "      <th>text</th>\n",
       "      <th>review</th>\n",
       "    </tr>\n",
       "  </thead>\n",
       "  <tbody>\n",
       "    <tr>\n",
       "      <th>152007</th>\n",
       "      <td>5.</td>\n",
       "      <td>Отличный парк, для всей семьи. Гулять можно це...</td>\n",
       "      <td>Оценка: 5. Отличный парк, для всей семьи. Гуля...</td>\n",
       "    </tr>\n",
       "    <tr>\n",
       "      <th>152008</th>\n",
       "      <td>5.</td>\n",
       "      <td>Парк Краснодара, очень красивое и уютное место...</td>\n",
       "      <td>Оценка: 5. Парк Краснодара, очень красивое и у...</td>\n",
       "    </tr>\n",
       "    <tr>\n",
       "      <th>152009</th>\n",
       "      <td>5.</td>\n",
       "      <td>Самый лучший парк, который я посещала. Огромна...</td>\n",
       "      <td>Оценка: 5. Самый лучший парк, который я посеща...</td>\n",
       "    </tr>\n",
       "    <tr>\n",
       "      <th>152010</th>\n",
       "      <td>5.</td>\n",
       "      <td>Удивительная красота!! Мир цветов и зелени! По...</td>\n",
       "      <td>Оценка: 5. Удивительная красота!! Мир цветов и...</td>\n",
       "    </tr>\n",
       "    <tr>\n",
       "      <th>152011</th>\n",
       "      <td>5.</td>\n",
       "      <td>Не иначе как это чудо для нашей страны. Такого...</td>\n",
       "      <td>Оценка: 5. Не иначе как это чудо для нашей стр...</td>\n",
       "    </tr>\n",
       "    <tr>\n",
       "      <th>...</th>\n",
       "      <td>...</td>\n",
       "      <td>...</td>\n",
       "      <td>...</td>\n",
       "    </tr>\n",
       "    <tr>\n",
       "      <th>152153</th>\n",
       "      <td>5.</td>\n",
       "      <td>Вкусное мороженое возле японского сада)</td>\n",
       "      <td>Оценка: 5. Вкусное мороженое возле японского с...</td>\n",
       "    </tr>\n",
       "    <tr>\n",
       "      <th>152154</th>\n",
       "      <td>5.</td>\n",
       "      <td>Самый блестящий, ухоженный, просто замечательн...</td>\n",
       "      <td>Оценка: 5. Самый блестящий, ухоженный, просто ...</td>\n",
       "    </tr>\n",
       "    <tr>\n",
       "      <th>152155</th>\n",
       "      <td>5.</td>\n",
       "      <td>Потрясающий парк. Гуляли весь день. Сына с тру...</td>\n",
       "      <td>Оценка: 5. Потрясающий парк. Гуляли весь день....</td>\n",
       "    </tr>\n",
       "    <tr>\n",
       "      <th>152156</th>\n",
       "      <td>5.</td>\n",
       "      <td>Шикарное место для прогулок на свежем воздухе....</td>\n",
       "      <td>Оценка: 5. Шикарное место для прогулок на свеж...</td>\n",
       "    </tr>\n",
       "    <tr>\n",
       "      <th>152157</th>\n",
       "      <td>5.</td>\n",
       "      <td>Эмоции зашкаливают. Место, где останавливается...</td>\n",
       "      <td>Оценка: 5. Эмоции зашкаливают. Место, где оста...</td>\n",
       "    </tr>\n",
       "  </tbody>\n",
       "</table>\n",
       "<p>151 rows × 3 columns</p>\n",
       "</div>"
      ],
      "text/plain": [
       "       rating                                               text  \\\n",
       "152007     5.  Отличный парк, для всей семьи. Гулять можно це...   \n",
       "152008     5.  Парк Краснодара, очень красивое и уютное место...   \n",
       "152009     5.  Самый лучший парк, который я посещала. Огромна...   \n",
       "152010     5.  Удивительная красота!! Мир цветов и зелени! По...   \n",
       "152011     5.  Не иначе как это чудо для нашей страны. Такого...   \n",
       "...       ...                                                ...   \n",
       "152153     5.            Вкусное мороженое возле японского сада)   \n",
       "152154     5.  Самый блестящий, ухоженный, просто замечательн...   \n",
       "152155     5.  Потрясающий парк. Гуляли весь день. Сына с тру...   \n",
       "152156     5.  Шикарное место для прогулок на свежем воздухе....   \n",
       "152157     5.  Эмоции зашкаливают. Место, где останавливается...   \n",
       "\n",
       "                                                   review  \n",
       "152007  Оценка: 5. Отличный парк, для всей семьи. Гуля...  \n",
       "152008  Оценка: 5. Парк Краснодара, очень красивое и у...  \n",
       "152009  Оценка: 5. Самый лучший парк, который я посеща...  \n",
       "152010  Оценка: 5. Удивительная красота!! Мир цветов и...  \n",
       "152011  Оценка: 5. Не иначе как это чудо для нашей стр...  \n",
       "...                                                   ...  \n",
       "152153  Оценка: 5. Вкусное мороженое возле японского с...  \n",
       "152154  Оценка: 5. Самый блестящий, ухоженный, просто ...  \n",
       "152155  Оценка: 5. Потрясающий парк. Гуляли весь день....  \n",
       "152156  Оценка: 5. Шикарное место для прогулок на свеж...  \n",
       "152157  Оценка: 5. Эмоции зашкаливают. Место, где оста...  \n",
       "\n",
       "[151 rows x 3 columns]"
      ]
     },
     "execution_count": 20,
     "metadata": {},
     "output_type": "execute_result"
    }
   ],
   "source": [
    "df_clean"
   ]
  },
  {
   "cell_type": "code",
   "execution_count": 21,
   "id": "1522839d",
   "metadata": {},
   "outputs": [],
   "source": [
    "# yep, we did it. Delete text and rating cols\n",
    "df_clean = df_clean.drop(columns=['rating', 'text'])"
   ]
  },
  {
   "cell_type": "code",
   "execution_count": 22,
   "id": "80df48d7",
   "metadata": {},
   "outputs": [],
   "source": [
    "df_clean = df_clean.reset_index(drop=True)"
   ]
  },
  {
   "cell_type": "code",
   "execution_count": 23,
   "id": "ccc69b5d",
   "metadata": {
    "scrolled": true
   },
   "outputs": [
    {
     "data": {
      "text/html": [
       "<div>\n",
       "<style scoped>\n",
       "    .dataframe tbody tr th:only-of-type {\n",
       "        vertical-align: middle;\n",
       "    }\n",
       "\n",
       "    .dataframe tbody tr th {\n",
       "        vertical-align: top;\n",
       "    }\n",
       "\n",
       "    .dataframe thead th {\n",
       "        text-align: right;\n",
       "    }\n",
       "</style>\n",
       "<table border=\"1\" class=\"dataframe\">\n",
       "  <thead>\n",
       "    <tr style=\"text-align: right;\">\n",
       "      <th></th>\n",
       "      <th>review</th>\n",
       "    </tr>\n",
       "  </thead>\n",
       "  <tbody>\n",
       "    <tr>\n",
       "      <th>0</th>\n",
       "      <td>Оценка: 5. Отличный парк, для всей семьи. Гуля...</td>\n",
       "    </tr>\n",
       "    <tr>\n",
       "      <th>1</th>\n",
       "      <td>Оценка: 5. Парк Краснодара, очень красивое и у...</td>\n",
       "    </tr>\n",
       "    <tr>\n",
       "      <th>2</th>\n",
       "      <td>Оценка: 5. Самый лучший парк, который я посеща...</td>\n",
       "    </tr>\n",
       "    <tr>\n",
       "      <th>3</th>\n",
       "      <td>Оценка: 5. Удивительная красота!! Мир цветов и...</td>\n",
       "    </tr>\n",
       "    <tr>\n",
       "      <th>4</th>\n",
       "      <td>Оценка: 5. Не иначе как это чудо для нашей стр...</td>\n",
       "    </tr>\n",
       "    <tr>\n",
       "      <th>...</th>\n",
       "      <td>...</td>\n",
       "    </tr>\n",
       "    <tr>\n",
       "      <th>146</th>\n",
       "      <td>Оценка: 5. Вкусное мороженое возле японского с...</td>\n",
       "    </tr>\n",
       "    <tr>\n",
       "      <th>147</th>\n",
       "      <td>Оценка: 5. Самый блестящий, ухоженный, просто ...</td>\n",
       "    </tr>\n",
       "    <tr>\n",
       "      <th>148</th>\n",
       "      <td>Оценка: 5. Потрясающий парк. Гуляли весь день....</td>\n",
       "    </tr>\n",
       "    <tr>\n",
       "      <th>149</th>\n",
       "      <td>Оценка: 5. Шикарное место для прогулок на свеж...</td>\n",
       "    </tr>\n",
       "    <tr>\n",
       "      <th>150</th>\n",
       "      <td>Оценка: 5. Эмоции зашкаливают. Место, где оста...</td>\n",
       "    </tr>\n",
       "  </tbody>\n",
       "</table>\n",
       "<p>151 rows × 1 columns</p>\n",
       "</div>"
      ],
      "text/plain": [
       "                                                review\n",
       "0    Оценка: 5. Отличный парк, для всей семьи. Гуля...\n",
       "1    Оценка: 5. Парк Краснодара, очень красивое и у...\n",
       "2    Оценка: 5. Самый лучший парк, который я посеща...\n",
       "3    Оценка: 5. Удивительная красота!! Мир цветов и...\n",
       "4    Оценка: 5. Не иначе как это чудо для нашей стр...\n",
       "..                                                 ...\n",
       "146  Оценка: 5. Вкусное мороженое возле японского с...\n",
       "147  Оценка: 5. Самый блестящий, ухоженный, просто ...\n",
       "148  Оценка: 5. Потрясающий парк. Гуляли весь день....\n",
       "149  Оценка: 5. Шикарное место для прогулок на свеж...\n",
       "150  Оценка: 5. Эмоции зашкаливают. Место, где оста...\n",
       "\n",
       "[151 rows x 1 columns]"
      ]
     },
     "execution_count": 23,
     "metadata": {},
     "output_type": "execute_result"
    }
   ],
   "source": [
    "df_clean"
   ]
  },
  {
   "cell_type": "code",
   "execution_count": 24,
   "id": "7506c6cd",
   "metadata": {},
   "outputs": [],
   "source": [
    "# save our reviews as a .csv file\n",
    "df_clean.to_csv('reviews.csv', index=False, sep=',')"
   ]
  },
  {
   "attachments": {},
   "cell_type": "markdown",
   "id": "188e13b9",
   "metadata": {},
   "source": [
    "## RAG implementation"
   ]
  },
  {
   "cell_type": "code",
   "execution_count": 25,
   "id": "e54e5d8d",
   "metadata": {},
   "outputs": [
    {
     "name": "stderr",
     "output_type": "stream",
     "text": [
      "/Users/imac/llm/.venv/lib/python3.9/site-packages/pinecone/data/index.py:1: TqdmWarning: IProgress not found. Please update jupyter and ipywidgets. See https://ipywidgets.readthedocs.io/en/stable/user_install.html\n",
      "  from tqdm.autonotebook import tqdm\n"
     ]
    },
    {
     "data": {
      "text/plain": [
       "AIMessage(content='Хорошо! Вот моя шутка:\\n\\nКто придумал понятие \"ранний подъем\"? Это же очевидно, что ночь была создана для сна, а не для подъема!', response_metadata={'token_usage': {'completion_tokens': 44, 'prompt_tokens': 66, 'total_tokens': 110, 'completion_time': 0.125083898, 'prompt_time': 0.015309251, 'queue_time': None, 'total_time': 0.140393149}, 'model_name': 'llama3-70b-8192', 'system_fingerprint': 'fp_abd29e8833', 'finish_reason': 'stop', 'logprobs': None}, id='run-cb33850a-36a1-4203-a45f-50c620ef9358-0')"
      ]
     },
     "execution_count": 25,
     "metadata": {},
     "output_type": "execute_result"
    }
   ],
   "source": [
    "# ideally use llama3 embeddings instead of phi3\n",
    "import os\n",
    "from dotenv import load_dotenv\n",
    "from operator import itemgetter\n",
    "from langchain import PromptTemplate\n",
    "from langchain_community.llms import Ollama\n",
    "from langchain_community.embeddings import OllamaEmbeddings\n",
    "from langchain_community.document_loaders import CSVLoader\n",
    "from langchain_community.vectorstores import DocArrayInMemorySearch\n",
    "from langchain_core.runnables import RunnableParallel, RunnablePassthrough\n",
    "from langchain_core.prompts import ChatPromptTemplate\n",
    "from langchain_core.output_parsers import StrOutputParser\n",
    "from langchain_groq import ChatGroq\n",
    "from langchain.load import dumps, loads\n",
    "from langchain_pinecone import PineconeVectorStore\n",
    "\n",
    "load_dotenv() # load env for api keys etc\n",
    "\n",
    "# here we go\n",
    "LLM = 'llama3-70b-8192' # the smartest model in groq api IMAO\n",
    "embeddings_model = 'phi3:latest' # i've downloaded it previously for fun, so why not using it right now for embeddings purposes\n",
    "\n",
    "# init model from groq\n",
    "chat = ChatGroq(temperature=0.3, model_name=LLM) # we want mid temp\n",
    "\n",
    "# create custom instructions\n",
    "system = 'Ты мастер делать саммари и удобные выжимки из текста, отвечай только то, что ты видишь в контексте, отвечай всегда только на русском языке.'\n",
    "human = '{text}'\n",
    "prompt = ChatPromptTemplate.from_messages([('system', system), ('human', human)]) \n",
    "\n",
    "# init embeds\n",
    "embeddings = OllamaEmbeddings(model=embeddings_model)\n",
    "\n",
    "# create prompt-chat chain\n",
    "model = prompt | chat\n",
    "model.invoke({'text': 'пошути о чем-нибудь'})"
   ]
  },
  {
   "cell_type": "code",
   "execution_count": 26,
   "id": "ac8dc4ed",
   "metadata": {},
   "outputs": [
    {
     "data": {
      "text/plain": [
       "'Почему компьютер пошел к врачу? Он чувствовал себя немного глюком!'"
      ]
     },
     "execution_count": 26,
     "metadata": {},
     "output_type": "execute_result"
    }
   ],
   "source": [
    "# previously we had AIMessage with all metadata, now we want to have only answer w/o any additional info. We're gonna use Parser from langchain for these purposes\n",
    "\n",
    "parser = StrOutputParser()\n",
    "\n",
    "chain = model | parser\n",
    "chain.invoke({'text': 'Расскажи шутку'})"
   ]
  },
  {
   "cell_type": "code",
   "execution_count": 27,
   "id": "f4f7f678",
   "metadata": {},
   "outputs": [
    {
     "data": {
      "text/plain": [
       "'\\nОтвечай на вопросы на основе контекста ниже. Если не можешь ответить на вопрос, отвечай \"Я не знаю\"\\nКонтекст: Такой контекст\\nВопрос: Такой вопрос\\n'"
      ]
     },
     "execution_count": 27,
     "metadata": {},
     "output_type": "execute_result"
    }
   ],
   "source": [
    "# create template for model to see context\n",
    "template = '''\n",
    "Отвечай на вопросы на основе контекста ниже. Если не можешь ответить на вопрос, отвечай \"Я не знаю\"\n",
    "Контекст: {context}\n",
    "Вопрос: {question}\n",
    "'''\n",
    "\n",
    "prompt = PromptTemplate.from_template(template)\n",
    "prompt.format(context='Такой контекст', question='Такой вопрос')"
   ]
  },
  {
   "cell_type": "code",
   "execution_count": 28,
   "id": "3277d85a",
   "metadata": {},
   "outputs": [
    {
     "data": {
      "text/plain": [
       "\"Компания называется ООО 'ФЫВЛАПР'.\""
      ]
     },
     "execution_count": 28,
     "metadata": {},
     "output_type": "execute_result"
    }
   ],
   "source": [
    "# we have a template for context, then we throw it into a model which has custom prompt and uses chatgroq to answer, then this all to be parsed to remove metadata. Let us check what will be the answer with our context\n",
    "chain = prompt | model | parser\n",
    "\n",
    "chain.invoke({\"context\": \"Компания ООО 'ФЫВЛАПР' была основана в 1990 году и с тех пор развивалась с огромной скоростью\", \"question\": \"Как называется компания'?\"})"
   ]
  },
  {
   "cell_type": "code",
   "execution_count": 29,
   "id": "ec0e554c",
   "metadata": {},
   "outputs": [],
   "source": [
    "# take a loader from langchain community and load our csv file\n",
    "loader = CSVLoader('reviews.csv')\n",
    "reviews_data = loader.load()"
   ]
  },
  {
   "cell_type": "code",
   "execution_count": 30,
   "id": "0f862720",
   "metadata": {},
   "outputs": [
    {
     "data": {
      "text/plain": [
       "[Document(page_content='review: Оценка: 5. Отличный парк, для всей семьи. Гулять можно целый день и вряд ли надоест. Чисто, везде охрана, есть кофетерии, много лавочек, да и вообще мест для сидения и даже лежания 😁 Удивительно, что городские власти до сих пор не прибрали его к рукам и не сделали платным. Жаль что не все наши власть имущие такие же как Сергей Николаевич. Тем, кто до сих пор раздумывает, ехать в парк или нет? – однозначно ЕЗЖАЙТЕ, не пожалеете.', metadata={'source': 'reviews.csv', 'row': 0}),\n",
       " Document(page_content='review: Оценка: 5. Парк Краснодара, очень красивое и уютное место, где можно от души поваляться на травке, и никто ничего не скажет, а главное вещи все чистые остаются, много разных арт объектов, и композиций, и стадион очень гармонично смотрится в парке. Рекомендую очень понравилось и взрослым и детям', metadata={'source': 'reviews.csv', 'row': 1}),\n",
       " Document(page_content='review: Оценка: 5. Самый лучший парк, который я посещала. Огромная территория, и в скором будущем откроют еще новую территорию. Можно гулять целый день, есть развлечения для детей. Туалеты есть, бесплатные, чистые, но в них немного темновато, и не всегда есть бумага. Фонтанов много, особенно понравился Инфинити. На территории есть несколько точек где можно перекусить.', metadata={'source': 'reviews.csv', 'row': 2}),\n",
       " Document(page_content='review: Оценка: 5. Удивительная красота!! Мир цветов и зелени! Поле с петуниями, можно сказать в воздухе - прелесть!! Лавандовые клумбы, обожаю это лавандовое пространство!! Шикарные фонтаны! Самое главное нет различных атракционов!! Наслаждаешься красотами природы, тишиной и пением птиц!!', metadata={'source': 'reviews.csv', 'row': 3}),\n",
       " Document(page_content='review: Оценка: 5. Не иначе как это чудо для нашей страны. Такого уровня организации пространства я нигде не видел. Очень надеюсь это будет позитивный пример для других городов.', metadata={'source': 'reviews.csv', 'row': 4}),\n",
       " Document(page_content='review: Оценка: 5. 10 из 10 большой зеленый оазис среди города. Много прогулочных зон, детям особенно понравилась игровая песчаная зона) тихо, зелено и глазам и ушам отдых) в кафе дороговато, но сами кафе атмосферные. Особенно понравилось отсутствие в парке различных ларьков со всякой всячиной и раздражающих аттракционов. Отличное место для выходного днЯ!', metadata={'source': 'reviews.csv', 'row': 5}),\n",
       " Document(page_content='review: Оценка: 4. Парк конечно грандиозный,  большой,есть где погулять. В солнечную погоду очень спасают многочисленные фонтаны. На траве между деревьев можно лежать. Вообщем полное раздолье', metadata={'source': 'reviews.csv', 'row': 6}),\n",
       " Document(page_content='review: Оценка: 5. Очень красивый парк, огромный, многоуровневый, шикарные магнолии и золотые карпы , есть где отдохнуть , посидеть в тени деревьев, и прикоснуться к воде.', metadata={'source': 'reviews.csv', 'row': 7}),\n",
       " Document(page_content='review: Оценка: 4. Хороший парк, уажение Галицкому за подарок своим землякам. Современный ландшафтный дизайн много привозных деревьев,  интересные малые архитектурные формы.  Мне показалось мало тени, летом как на сковородке очень жарко а укрыться негде.', metadata={'source': 'reviews.csv', 'row': 8}),\n",
       " Document(page_content='review: Оценка: 5. Шикарный парк. Галицкий молодец. Хоть кто-то для города что-то делает. Единственное ну очень тяжко обойти весь парк пешком. Поставьте в аренду самокаты.', metadata={'source': 'reviews.csv', 'row': 9})]"
      ]
     },
     "execution_count": 30,
     "metadata": {},
     "output_type": "execute_result"
    }
   ],
   "source": [
    "# have a glance at first 10 docs\n",
    "reviews_data[:10]"
   ]
  },
  {
   "cell_type": "code",
   "execution_count": 31,
   "id": "0359eab5",
   "metadata": {},
   "outputs": [],
   "source": [
    "# we are going to define vectorstore to convert our reviews into phi3 embeddings. After that we will retrieve relevant embeddings from this vectorstore and put into chain. Firstly we are using some part of them, \n",
    "# just to have a shot\n",
    "vectorstore = DocArrayInMemorySearch.from_documents(reviews_data[:20], embedding=embeddings)"
   ]
  },
  {
   "cell_type": "code",
   "execution_count": 32,
   "id": "73e710bb",
   "metadata": {},
   "outputs": [
    {
     "data": {
      "text/plain": [
       "[Document(page_content='review: Оценка: 5. Очень красивый парк, огромный, многоуровневый, шикарные магнолии и золотые карпы , есть где отдохнуть , посидеть в тени деревьев, и прикоснуться к воде.', metadata={'source': 'reviews.csv', 'row': 7}),\n",
       " Document(page_content='review: Оценка: 5. Отличный парк, для всей семьи. Гулять можно целый день и вряд ли надоест. Чисто, везде охрана, есть кофетерии, много лавочек, да и вообще мест для сидения и даже лежания 😁 Удивительно, что городские власти до сих пор не прибрали его к рукам и не сделали платным. Жаль что не все наши власть имущие такие же как Сергей Николаевич. Тем, кто до сих пор раздумывает, ехать в парк или нет? – однозначно ЕЗЖАЙТЕ, не пожалеете.', metadata={'source': 'reviews.csv', 'row': 0}),\n",
       " Document(page_content='review: Оценка: 5. Шикарный парк. Галицкий молодец. Хоть кто-то для города что-то делает. Единственное ну очень тяжко обойти весь парк пешком. Поставьте в аренду самокаты.', metadata={'source': 'reviews.csv', 'row': 9}),\n",
       " Document(page_content='review: Оценка: 4. Хороший парк, уажение Галицкому за подарок своим землякам. Современный ландшафтный дизайн много привозных деревьев,  интересные малые архитектурные формы.  Мне показалось мало тени, летом как на сковородке очень жарко а укрыться негде.', metadata={'source': 'reviews.csv', 'row': 8})]"
      ]
     },
     "execution_count": 32,
     "metadata": {},
     "output_type": "execute_result"
    }
   ],
   "source": [
    "retriever = vectorstore.as_retriever() # define vectorstore as a retriever\n",
    "retriever.invoke('что говорится о размерах парка?')"
   ]
  },
  {
   "cell_type": "code",
   "execution_count": 33,
   "id": "922851e4",
   "metadata": {},
   "outputs": [],
   "source": [
    "# create new chain considering vector store.\n",
    "chain = (\n",
    "    {\n",
    "        'context': itemgetter('question') | retriever, # put context into retriever\n",
    "        'question': itemgetter('question'),\n",
    "    }\n",
    "    | prompt\n",
    "    | model \n",
    "    | parser\n",
    ")"
   ]
  },
  {
   "cell_type": "code",
   "execution_count": 34,
   "id": "f6d566b7",
   "metadata": {},
   "outputs": [
    {
     "name": "stdout",
     "output_type": "stream",
     "text": [
      "Вопрос: есть ли в парке мороженое?\n",
      "Ответ: Я не знаю.\n",
      "Вопрос: можно ли покататься на самокате?\n",
      "Ответ: Я не знаю.\n",
      "Вопрос: Есть ли минусы у этого парка?\n",
      "Ответ: Да, есть минусы у этого парка. Некоторые посетители отметили, что в парке мало тени, и летом очень жарко, а также что тяжело обойти весь парк пешком.\n",
      "Вопрос: что понравилось больше всего, дай топ-5 причин?\n",
      "Ответ: Основываясь на контексте, можно выделить следующие топ-5 причин, которые понравились больше всего:\n",
      "\n",
      "1. Приятная атмосфера и свежий воздух\n",
      "2. Красивый японский сад\n",
      "3. Вкусный кофе и какао\n",
      "4. Чистота и безопасность (охрана, лавочки, места для сидения и лежания)\n",
      "5. Красота и размер парка (огромный, многоуровневый, шикарные магнолии и золотые карпы)\n",
      "Вопрос: что не понравилось больше всего, дай топ-5 причин?\n",
      "Ответ: Я не знаю. В тексте нет упоминаний о чем-то, что не понравилось. Все отзывы положительные и содержат похвалу парку.\n",
      "Вопрос: Галицкий, кто это?\n",
      "Ответ: Галицкий - это человек, который что-то сделал для города, создал шикарный парк.\n"
     ]
    }
   ],
   "source": [
    "# Checking how it works\n",
    "questions = [\n",
    "    'есть ли в парке мороженое?',\n",
    "    'можно ли покататься на самокате?',\n",
    "    'Есть ли минусы у этого парка?',\n",
    "    'что понравилось больше всего, дай топ-5 причин?',\n",
    "    'что не понравилось больше всего, дай топ-5 причин?',\n",
    "    'Галицкий, кто это?'\n",
    "]\n",
    "\n",
    "for question in questions:\n",
    "    print(f\"Вопрос: {question}\")\n",
    "    print(f\"Ответ: {chain.invoke({'question': question})}\")"
   ]
  },
  {
   "cell_type": "code",
   "execution_count": 36,
   "id": "90c59ce1",
   "metadata": {},
   "outputs": [
    {
     "data": {
      "text/plain": [
       "['Я не знаю.',\n",
       " 'Я не знаю.',\n",
       " 'Да, есть минусы у этого парка. Некоторые посетители отмечали, что парк очень большой и тяжело обойти его пешком, а также что летом в парке очень жарко и мало мест, где можно укрыться от солнца.',\n",
       " 'Вот топ-5 причин, что понравилось больше всего, основываясь на контексте:\\n\\n1. Приятная атмосфера и свежий воздух\\n2. Красивый японский сад\\n3. Вкусный кофе и какао\\n4. Огромный и шикарный парк с магнолиями и золотыми карпами\\n5. Чистота и безопасность парка, с наличием кофетерий и мест для сидения и лежания',\n",
       " 'Я не знаю.',\n",
       " 'Галицкий - это человек, который сделал что-то полезное для города, создал шикарный парк.']"
      ]
     },
     "execution_count": 36,
     "metadata": {},
     "output_type": "execute_result"
    }
   ],
   "source": [
    "# some questions seemed for LLM too specific, like an ice-cream or scooters existence. I know that some reviews have these words inside, but maybe temperature is too low, we will try to fix this later.\n",
    "# but the best thing is that many answers seem very correct!\n",
    "# we can proceed with batches as well\n",
    "# define time.sleep to make some pause between huge amount of tokens' request from groq's api\n",
    "import time\n",
    "\n",
    "time.sleep(40)\n",
    "chain.batch([{\"question\": q} for q in questions])"
   ]
  },
  {
   "cell_type": "code",
   "execution_count": 37,
   "id": "4a19fc9a",
   "metadata": {},
   "outputs": [
    {
     "name": "stdout",
     "output_type": "stream",
     "text": [
      "Дети, вероятно, будут рады в этом парке, потому что он предлагает различные возможности для отдыха и развлечений. Там есть кофетерии, лавочки и места для сидения, где можно отдохнуть. Кроме того, парк является большим и имеет различные уровни, что может быть интересно для детей. Однако, конкретных детских площадок или аттракционов в тексте не упоминается."
     ]
    }
   ],
   "source": [
    "# there are controversial answers about minuses and top-5 problems. Disadvantages in the third q are ok but in 5th it says i don't know so it's ok but not the best answer\n",
    "# streaming is cool feature, have a look\n",
    "for s in chain.stream({\"question\": \"детям понравится? Расскажи подробнее, что там можно делать детям?\"}):\n",
    "    print(s, end=\"\", flush=True)"
   ]
  },
  {
   "cell_type": "code",
   "execution_count": 38,
   "id": "7498c247",
   "metadata": {},
   "outputs": [],
   "source": [
    "# wow just have a look on those park details. Great! Love it. Let's indicate vectorstore so we won't store in memory all the embeddings.\n",
    "index_name = \"reviews\"\n",
    "\n",
    "pinecone = PineconeVectorStore.from_documents(\n",
    "    reviews_data, embeddings, index_name=index_name\n",
    ") "
   ]
  },
  {
   "cell_type": "code",
   "execution_count": 39,
   "id": "1c7782cc",
   "metadata": {},
   "outputs": [
    {
     "data": {
      "text/plain": [
       "[(Document(page_content='review: Оценка: 5. Супер! Спасибо большое Сергею Галицкому. В любое время года стоит посетить. Восхищает место. Японский сад - изюминка на торте', metadata={'row': 119.0, 'source': 'reviews.csv'}),\n",
       "  0.656286836),\n",
       " (Document(page_content='review: Оценка: 5. Прогулка всей семьи! Удобная парковка; великолепный парк, отлично сделан. Ухаживают , убирают, заботиться . Много детских площадок. Мало скамеек для отдыха и урн для мусора', metadata={'row': 109.0, 'source': 'reviews.csv'}),\n",
       "  0.625989497),\n",
       " (Document(page_content='review: Оценка: 5. Обожаю этот парк за его удивительную красоту, чистоту и ухоженность. Прекрасные живописные виды. Редкие и красивые растения. Необычные водоёмы, фонтаны и волшебная подсветка. Очень подходит для прогулок. Можно с детьми. Есть детская площадка, кафе и туалеты', metadata={'row': 94.0, 'source': 'reviews.csv'}),\n",
       "  0.610643506),\n",
       " (Document(page_content='review: Оценка: 5. Классный парк, очень красиво, продаётся прекрасное натуральное безмолочное мороженное, банан-шпинат-киви, махито, чкусно и полезно. Рыбы в пруду, красивые, много фантанов, жаль вечером не увидели подсветку и не попали в японский сад', metadata={'row': 65.0, 'source': 'reviews.csv'}),\n",
       "  0.607654393)]"
      ]
     },
     "execution_count": 39,
     "metadata": {},
     "output_type": "execute_result"
    }
   ],
   "source": [
    "# let us check cosine similarity score for our embeddings\n",
    "pinecone.similarity_search_with_score('карпы')"
   ]
  },
  {
   "cell_type": "code",
   "execution_count": 40,
   "id": "9f857bb0",
   "metadata": {},
   "outputs": [
    {
     "data": {
      "text/plain": [
       "{'context': [Document(page_content='review: Оценка: 5. Отличный парк, для всей семьи. Гулять можно целый день и вряд ли надоест. Чисто, везде охрана, есть кофетерии, много лавочек, да и вообще мест для сидения и даже лежания 😁 Удивительно, что городские власти до сих пор не прибрали его к рукам и не сделали платным. Жаль что не все наши власть имущие такие же как Сергей Николаевич. Тем, кто до сих пор раздумывает, ехать в парк или нет? – однозначно ЕЗЖАЙТЕ, не пожалеете.', metadata={'source': 'reviews.csv', 'row': 0, 'text': 'review: Оценка: 5. Отличный парк, для всей семьи. Гулять можно целый день и вряд ли надоест. Чисто, везде охрана, есть кофетерии, много лавочек, да и вообще мест для сидения и даже лежания 😁 Удивительно, что городские власти до сих пор не прибрали его к рукам и не сделали платным. Жаль что не все наши власть имущие такие же как Сергей Николаевич. Тем, кто до сих пор раздумывает, ехать в парк или нет? – однозначно ЕЗЖАЙТЕ, не пожалеете.'}),\n",
       "  Document(page_content='review: Оценка: 4. Хороший парк, уажение Галицкому за подарок своим землякам. Современный ландшафтный дизайн много привозных деревьев,  интересные малые архитектурные формы.  Мне показалось мало тени, летом как на сковородке очень жарко а укрыться негде.', metadata={'source': 'reviews.csv', 'row': 8, 'text': 'review: Оценка: 4. Хороший парк, уажение Галицкому за подарок своим землякам. Современный ландшафтный дизайн много привозных деревьев,  интересные малые архитектурные формы.  Мне показалось мало тени, летом как на сковородке очень жарко а укрыться негде.'}),\n",
       "  Document(page_content='review: Оценка: 5. Прекрасное место, если вы хотите провести время с пользой и просто приятно. Свежий воздух, приятная атмосфера, вкусный кофе и какао. Японский сад так вообще удивил! Очень всем советую!', metadata={'source': 'reviews.csv', 'row': 13, 'text': 'review: Оценка: 5. Прекрасное место, если вы хотите провести время с пользой и просто приятно. Свежий воздух, приятная атмосфера, вкусный кофе и какао. Японский сад так вообще удивил! Очень всем советую!'}),\n",
       "  Document(page_content='review: Оценка: 5. Просто прекрасное место! И летом красотка, все зелено , много водички, цветов! И зимой, все так красиво украшения гирляндами! Поскорее бы открыли японский сад! Есть ресторан, еда там вкусная и цены приемлемые! Есть несколько фуд кортов,  но в них не была!', metadata={'source': 'reviews.csv', 'row': 10, 'text': 'review: Оценка: 5. Просто прекрасное место! И летом красотка, все зелено , много водички, цветов! И зимой, все так красиво украшения гирляндами! Поскорее бы открыли японский сад! Есть ресторан, еда там вкусная и цены приемлемые! Есть несколько фуд кортов,  но в них не была!'})],\n",
       " 'question': 'Тень есть, чтобы скрыться?'}"
      ]
     },
     "execution_count": 40,
     "metadata": {},
     "output_type": "execute_result"
    }
   ],
   "source": [
    "setup = RunnableParallel(context=retriever, question=RunnablePassthrough())\n",
    "setup.invoke('Тень есть, чтобы скрыться?')"
   ]
  },
  {
   "cell_type": "code",
   "execution_count": 41,
   "id": "b2f0cd8e",
   "metadata": {},
   "outputs": [
    {
     "data": {
      "text/plain": [
       "'Да, есть японский парк.'"
      ]
     },
     "execution_count": 41,
     "metadata": {},
     "output_type": "execute_result"
    }
   ],
   "source": [
    "# define new chain and add pinecone retriever as retriever and pass runnable\n",
    "chain = (\n",
    "    {'context': pinecone.as_retriever(), 'question': RunnablePassthrough()}\n",
    "    | prompt\n",
    "    | model\n",
    "    | parser\n",
    ")\n",
    "\n",
    "chain.invoke('есть японский сад?')"
   ]
  },
  {
   "cell_type": "code",
   "execution_count": 42,
   "id": "703e0e55",
   "metadata": {},
   "outputs": [
    {
     "name": "stdout",
     "output_type": "stream",
     "text": [
      "Вопрос: есть ли в парке мороженое?\n",
      "Ответ: Да, в парке есть мороженое, по крайней мере, возле японского сада.\n",
      "Вопрос: можно ли покататься на самокате?\n",
      "Ответ: Да, можно покататься на самокате.\n",
      "Вопрос: Есть ли минусы у этого парка?\n",
      "Ответ: Да, есть минусы у этого парка. Один из минусов - это отсутствие табличек с информацией о растениях.\n",
      "Вопрос: что понравилось больше всего, дай топ-5 причин?\n",
      "Ответ: Вот топ-5 причин, что понравилось посетителям парка:\n",
      "\n",
      "1. Разнообразие локаций для фото.\n",
      "2. Чистые туалеты.\n",
      "3. Вкусное мороженое в японском саду.\n",
      "4. Детские площадки и фонтаны.\n",
      "5. Интересные скульптуры и растения.\n",
      "Вопрос: что не понравилось больше всего, дай топ-5 причин?\n",
      "Ответ: Я не знаю. В контексте не указаны причины, которые не понравились посетителям парка. Все отзывы положительные и не содержат информации о негативных моментах.\n",
      "Вопрос: Галицкий, кто это?\n",
      "Ответ: Я не знаю.\n"
     ]
    }
   ],
   "source": [
    "questions = [\n",
    "    'есть ли в парке мороженое?',\n",
    "    'можно ли покататься на самокате?',\n",
    "    'Есть ли минусы у этого парка?',\n",
    "    'что понравилось больше всего, дай топ-5 причин?',\n",
    "    'что не понравилось больше всего, дай топ-5 причин?',\n",
    "    'Галицкий, кто это?'\n",
    "]\n",
    "\n",
    "for question in questions:\n",
    "    print(f'Вопрос: {question}')\n",
    "    print(f\"Ответ: {chain.invoke({'question': question})}\")"
   ]
  },
  {
   "cell_type": "code",
   "execution_count": 43,
   "id": "e88332ae",
   "metadata": {},
   "outputs": [],
   "source": [
    "# try to apply RAG-fusion so our LLM could understand everything better.\n",
    "template = '''You are a helpful assistant that generates multiple search queries based on a single input query. \\n\n",
    "Generate multiple search queries related to: {question} \\n\n",
    "Output (4 queries):'''\n",
    "prompt_rag_fusion = ChatPromptTemplate.from_template(template)\n",
    "\n",
    "chain = (\n",
    "    {'context': pinecone.as_retriever(), 'question': RunnablePassthrough()}\n",
    "    | prompt_rag_fusion\n",
    "    | model\n",
    "    | parser\n",
    "    | (lambda x: x.split(\"\\n\"))\n",
    ")"
   ]
  },
  {
   "cell_type": "code",
   "execution_count": 44,
   "id": "19c54f2a",
   "metadata": {},
   "outputs": [
    {
     "name": "stderr",
     "output_type": "stream",
     "text": [
      "/Users/imac/llm/.venv/lib/python3.9/site-packages/langchain_core/_api/beta_decorator.py:87: LangChainBetaWarning: The function `loads` is in beta. It is actively being worked on, so the API may change.\n",
      "  warn_beta(\n"
     ]
    },
    {
     "data": {
      "text/plain": [
       "12"
      ]
     },
     "execution_count": 44,
     "metadata": {},
     "output_type": "execute_result"
    }
   ],
   "source": [
    "# follow rag fusion instructions from langchain documentation:\n",
    "def reciprocal_rank_fusion(results: list[list], k=60):\n",
    "    \"\"\" Reciprocal_rank_fusion that takes multiple lists of ranked documents \n",
    "        and an optional parameter k used in the RRF formula \"\"\"\n",
    "    \n",
    "    # Initialize a dictionary to hold fused scores for each unique document\n",
    "    fused_scores = {}\n",
    "\n",
    "    # Iterate through each list of ranked documents\n",
    "    for docs in results:\n",
    "        # Iterate through each document in the list, with its rank (position in the list)\n",
    "        for rank, doc in enumerate(docs):\n",
    "            # Convert the document to a string format to use as a key (assumes documents can be serialized to JSON)\n",
    "            doc_str = dumps(doc)\n",
    "            # If the document is not yet in the fused_scores dictionary, add it with an initial score of 0\n",
    "            if doc_str not in fused_scores:\n",
    "                fused_scores[doc_str] = 0\n",
    "            # Retrieve the current score of the document, if any\n",
    "            previous_score = fused_scores[doc_str]\n",
    "            # Update the score of the document using the RRF formula: 1 / (rank + k)\n",
    "            fused_scores[doc_str] += 1 / (rank + k)\n",
    "\n",
    "    # Sort the documents based on their fused scores in descending order to get the final reranked results\n",
    "    reranked_results = [\n",
    "        (loads(doc), score)\n",
    "        for doc, score in sorted(fused_scores.items(), key=lambda x: x[1], reverse=True)\n",
    "    ]\n",
    "\n",
    "    # Return the reranked results as a list of tuples, each containing the document and its fused score\n",
    "    return reranked_results\n",
    "\n",
    "retriever = pinecone.as_retriever()\n",
    "retrieval_chain_rag_fusion = chain | retriever.map() | reciprocal_rank_fusion\n",
    "docs = retrieval_chain_rag_fusion.invoke({\"question\": question})\n",
    "len(docs)"
   ]
  },
  {
   "cell_type": "code",
   "execution_count": 45,
   "id": "740f6e4b",
   "metadata": {},
   "outputs": [
    {
     "data": {
      "text/plain": [
       "'В контексте текста Галицкий - это человек, который потратил деньги на создание парка, и, судя по отзыву, эти деньги не были потрачены зря.'"
      ]
     },
     "execution_count": 45,
     "metadata": {},
     "output_type": "execute_result"
    }
   ],
   "source": [
    "# let us create common chain with rag fusion as well\n",
    "template = \"\"\"Отвечай на вопрос в соответствии с заданным контекстом, используй только русский язык:\n",
    "\n",
    "{context}\n",
    "\n",
    "Вопрос: {question}\n",
    "\"\"\"\n",
    "\n",
    "prompt = ChatPromptTemplate.from_template(template)\n",
    "\n",
    "final_rag_chain = (\n",
    "    {\"context\": retrieval_chain_rag_fusion, \n",
    "     \"question\": itemgetter(\"question\")} \n",
    "    | prompt\n",
    "    | model\n",
    "    | parser\n",
    ")\n",
    "\n",
    "final_rag_chain.invoke({\"question\": 'кто такой Галицкий? Что о нём говорят?'})"
   ]
  },
  {
   "cell_type": "code",
   "execution_count": 46,
   "id": "a19cd45f",
   "metadata": {},
   "outputs": [
    {
     "name": "stdout",
     "output_type": "stream",
     "text": [
      "Вопрос: есть ли в парке мороженое?\n",
      "Ответ: Да, в парке есть мороженое.\n",
      "Вопрос: можно ли покататься на самокате?\n",
      "Ответ: В одном из отзывов есть упоминание о том, что в парке нет самокатов для аренды, и автор отзыва предлагает их установить. Поэтому, к сожалению, на данный момент нельзя покататься на самокате в этом парке.\n",
      "Вопрос: Есть ли минусы у этого парка?\n",
      "Ответ: В целом, парк имеет положительные отзывы, но есть несколько минусов, которые упоминаются в отзывах. К ним относятся: \n",
      "\n",
      "- трудности с обходом всего парка пешком;\n",
      "- запрет на вход с электросамокатами и собаками;\n",
      "- необходимость спрашивать и искать туалеты;\n",
      "- жалобы на то, что люди не умеют вести себя kulturно и оставляют мусор в парке.\n",
      "\n",
      "Однако, эти минусы не портят общего положительного впечатления от парка.\n",
      "Вопрос: что понравилось больше всего, дай топ-5 причин?\n",
      "Ответ: Вот топ-5 причин, которые понравились больше всего:\n",
      "\n",
      "1. Красота и обширность парка: многие пользователи отметили, что парк является шикарным, огромным и имеет многоуровневую структуру.\n",
      "2. Японский сад: несколько пользователей упомянули, что японский сад является одним из лучших мест в парке.\n",
      "3. Детские площадки и развлечения: многие пользователи отметили, что парк имеет множество детских площадок, фонтанов, скамеек и других развлечений для детей.\n",
      "4. Красивая растительность и арт-объекты: пользователи отметили, что парк имеет множество красивых растений, фонтанов и арт-объектов, которые делают его еще более привлекательным.\n",
      "5. Возможность отдыха и релаксации: многие пользователи отметили, что парк является идеальным местом для отдыха и релаксации, где можно поесть мороженое, выпить чай или кофе и насладиться природой.\n",
      "Вопрос: что не понравилось больше всего, дай топ-5 причин?\n",
      "Ответ: Вот топ-5 причин, что не понравилось больше всего, основываясь на отзывах:\n",
      "\n",
      "1. Трудности с обходом парка пешком (упоминается в одном отзыве).\n",
      "2. Отсутствие табличек с информацией о растениях (упоминается в одном отзыве).\n",
      "3. Неприятности с туалетами (упоминается в двух отзывах).\n",
      "4. Ограничения для людей с ограниченными возможностями (не упоминается напрямую, но можно предположить по контексту).\n",
      "5. Отсутствие аренды самокатов (упоминается в одном отзыве).\n",
      "\n",
      "Обратите внимание, что эти причины не являются общими для всех отзывов, а скорее представляют собой отдельные жалобы, которые были упомянуты в различных отзывах.\n",
      "Вопрос: Галицкий, кто это?\n",
      "Ответ: Галицкий - это, вероятно, имя человека, который инвестировал деньги в создание парка, о котором идёт речь в отзывах.\n"
     ]
    }
   ],
   "source": [
    "questions = [\n",
    "    'есть ли в парке мороженое?',\n",
    "    'можно ли покататься на самокате?',\n",
    "    'Есть ли минусы у этого парка?',\n",
    "    'что понравилось больше всего, дай топ-5 причин?',\n",
    "    'что не понравилось больше всего, дай топ-5 причин?',\n",
    "    'Галицкий, кто это?'\n",
    "]\n",
    "\n",
    "for question in questions:\n",
    "    print(f'Вопрос: {question}')\n",
    "    print(f\"Ответ: {final_rag_chain.invoke({'question': question})}\")"
   ]
  },
  {
   "cell_type": "code",
   "execution_count": null,
   "id": "0b5222d4",
   "metadata": {},
   "outputs": [],
   "source": [
    "# R E M A R K A B L E! Our children always grow so fast... BTW this kulturно is strange but ok)\n",
    "# gonna deploy as a telegram bot and have some fun"
   ]
  }
 ],
 "metadata": {
  "kernelspec": {
   "display_name": "Python 3 (ipykernel)",
   "language": "python",
   "name": "python3"
  },
  "language_info": {
   "codemirror_mode": {
    "name": "ipython",
    "version": 3
   },
   "file_extension": ".py",
   "mimetype": "text/x-python",
   "name": "python",
   "nbconvert_exporter": "python",
   "pygments_lexer": "ipython3",
   "version": "3.9.18"
  }
 },
 "nbformat": 4,
 "nbformat_minor": 5
}
